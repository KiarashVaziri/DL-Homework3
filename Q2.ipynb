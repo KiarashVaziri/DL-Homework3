{
  "nbformat": 4,
  "nbformat_minor": 0,
  "metadata": {
    "colab": {
      "provenance": [],
      "collapsed_sections": [
        "pj5bZTDSezIn",
        "BCPLD7H5VuAS",
        "A2udE36gWq4W",
        "EHSP57IQW6Ec",
        "cSY5irwGDD0J",
        "dpfUoCrDtT74"
      ],
      "include_colab_link": true
    },
    "kernelspec": {
      "name": "python3",
      "display_name": "Python 3"
    },
    "accelerator": "GPU",
    "widgets": {
      "application/vnd.jupyter.widget-state+json": {
        "b44a109502ce45d59a987472c7505c00": {
          "model_module": "@jupyter-widgets/controls",
          "model_name": "HBoxModel",
          "model_module_version": "1.5.0",
          "state": {
            "_dom_classes": [],
            "_model_module": "@jupyter-widgets/controls",
            "_model_module_version": "1.5.0",
            "_model_name": "HBoxModel",
            "_view_count": null,
            "_view_module": "@jupyter-widgets/controls",
            "_view_module_version": "1.5.0",
            "_view_name": "HBoxView",
            "box_style": "",
            "children": [
              "IPY_MODEL_3fc83a34b8764fa68d97a703e829e6cd",
              "IPY_MODEL_a194768d86cd4b54b1c86ab548bcea84",
              "IPY_MODEL_f193ea019a354656966619a3a50539ee"
            ],
            "layout": "IPY_MODEL_561a2f2f04aa455cabd2b05e1d4d816a"
          }
        },
        "3fc83a34b8764fa68d97a703e829e6cd": {
          "model_module": "@jupyter-widgets/controls",
          "model_name": "HTMLModel",
          "model_module_version": "1.5.0",
          "state": {
            "_dom_classes": [],
            "_model_module": "@jupyter-widgets/controls",
            "_model_module_version": "1.5.0",
            "_model_name": "HTMLModel",
            "_view_count": null,
            "_view_module": "@jupyter-widgets/controls",
            "_view_module_version": "1.5.0",
            "_view_name": "HTMLView",
            "description": "",
            "description_tooltip": null,
            "layout": "IPY_MODEL_60c9ddc35987486da10eb7a5e787761b",
            "placeholder": "​",
            "style": "IPY_MODEL_49a7eb7d14a34c5294c3b9b15066069a",
            "value": "100%"
          }
        },
        "a194768d86cd4b54b1c86ab548bcea84": {
          "model_module": "@jupyter-widgets/controls",
          "model_name": "FloatProgressModel",
          "model_module_version": "1.5.0",
          "state": {
            "_dom_classes": [],
            "_model_module": "@jupyter-widgets/controls",
            "_model_module_version": "1.5.0",
            "_model_name": "FloatProgressModel",
            "_view_count": null,
            "_view_module": "@jupyter-widgets/controls",
            "_view_module_version": "1.5.0",
            "_view_name": "ProgressView",
            "bar_style": "success",
            "description": "",
            "description_tooltip": null,
            "layout": "IPY_MODEL_893d9cac2ef646eda32b40c55c140930",
            "max": 102540417,
            "min": 0,
            "orientation": "horizontal",
            "style": "IPY_MODEL_18160e7eee0a4673b8a40e2273161ac9",
            "value": 102540417
          }
        },
        "f193ea019a354656966619a3a50539ee": {
          "model_module": "@jupyter-widgets/controls",
          "model_name": "HTMLModel",
          "model_module_version": "1.5.0",
          "state": {
            "_dom_classes": [],
            "_model_module": "@jupyter-widgets/controls",
            "_model_module_version": "1.5.0",
            "_model_name": "HTMLModel",
            "_view_count": null,
            "_view_module": "@jupyter-widgets/controls",
            "_view_module_version": "1.5.0",
            "_view_name": "HTMLView",
            "description": "",
            "description_tooltip": null,
            "layout": "IPY_MODEL_047b2e142eeb481a9056b6ee40d8f85d",
            "placeholder": "​",
            "style": "IPY_MODEL_e616d47892904ba09333fba277ed04ef",
            "value": " 97.8M/97.8M [00:01&lt;00:00, 86.9MB/s]"
          }
        },
        "561a2f2f04aa455cabd2b05e1d4d816a": {
          "model_module": "@jupyter-widgets/base",
          "model_name": "LayoutModel",
          "model_module_version": "1.2.0",
          "state": {
            "_model_module": "@jupyter-widgets/base",
            "_model_module_version": "1.2.0",
            "_model_name": "LayoutModel",
            "_view_count": null,
            "_view_module": "@jupyter-widgets/base",
            "_view_module_version": "1.2.0",
            "_view_name": "LayoutView",
            "align_content": null,
            "align_items": null,
            "align_self": null,
            "border": null,
            "bottom": null,
            "display": null,
            "flex": null,
            "flex_flow": null,
            "grid_area": null,
            "grid_auto_columns": null,
            "grid_auto_flow": null,
            "grid_auto_rows": null,
            "grid_column": null,
            "grid_gap": null,
            "grid_row": null,
            "grid_template_areas": null,
            "grid_template_columns": null,
            "grid_template_rows": null,
            "height": null,
            "justify_content": null,
            "justify_items": null,
            "left": null,
            "margin": null,
            "max_height": null,
            "max_width": null,
            "min_height": null,
            "min_width": null,
            "object_fit": null,
            "object_position": null,
            "order": null,
            "overflow": null,
            "overflow_x": null,
            "overflow_y": null,
            "padding": null,
            "right": null,
            "top": null,
            "visibility": null,
            "width": null
          }
        },
        "60c9ddc35987486da10eb7a5e787761b": {
          "model_module": "@jupyter-widgets/base",
          "model_name": "LayoutModel",
          "model_module_version": "1.2.0",
          "state": {
            "_model_module": "@jupyter-widgets/base",
            "_model_module_version": "1.2.0",
            "_model_name": "LayoutModel",
            "_view_count": null,
            "_view_module": "@jupyter-widgets/base",
            "_view_module_version": "1.2.0",
            "_view_name": "LayoutView",
            "align_content": null,
            "align_items": null,
            "align_self": null,
            "border": null,
            "bottom": null,
            "display": null,
            "flex": null,
            "flex_flow": null,
            "grid_area": null,
            "grid_auto_columns": null,
            "grid_auto_flow": null,
            "grid_auto_rows": null,
            "grid_column": null,
            "grid_gap": null,
            "grid_row": null,
            "grid_template_areas": null,
            "grid_template_columns": null,
            "grid_template_rows": null,
            "height": null,
            "justify_content": null,
            "justify_items": null,
            "left": null,
            "margin": null,
            "max_height": null,
            "max_width": null,
            "min_height": null,
            "min_width": null,
            "object_fit": null,
            "object_position": null,
            "order": null,
            "overflow": null,
            "overflow_x": null,
            "overflow_y": null,
            "padding": null,
            "right": null,
            "top": null,
            "visibility": null,
            "width": null
          }
        },
        "49a7eb7d14a34c5294c3b9b15066069a": {
          "model_module": "@jupyter-widgets/controls",
          "model_name": "DescriptionStyleModel",
          "model_module_version": "1.5.0",
          "state": {
            "_model_module": "@jupyter-widgets/controls",
            "_model_module_version": "1.5.0",
            "_model_name": "DescriptionStyleModel",
            "_view_count": null,
            "_view_module": "@jupyter-widgets/base",
            "_view_module_version": "1.2.0",
            "_view_name": "StyleView",
            "description_width": ""
          }
        },
        "893d9cac2ef646eda32b40c55c140930": {
          "model_module": "@jupyter-widgets/base",
          "model_name": "LayoutModel",
          "model_module_version": "1.2.0",
          "state": {
            "_model_module": "@jupyter-widgets/base",
            "_model_module_version": "1.2.0",
            "_model_name": "LayoutModel",
            "_view_count": null,
            "_view_module": "@jupyter-widgets/base",
            "_view_module_version": "1.2.0",
            "_view_name": "LayoutView",
            "align_content": null,
            "align_items": null,
            "align_self": null,
            "border": null,
            "bottom": null,
            "display": null,
            "flex": null,
            "flex_flow": null,
            "grid_area": null,
            "grid_auto_columns": null,
            "grid_auto_flow": null,
            "grid_auto_rows": null,
            "grid_column": null,
            "grid_gap": null,
            "grid_row": null,
            "grid_template_areas": null,
            "grid_template_columns": null,
            "grid_template_rows": null,
            "height": null,
            "justify_content": null,
            "justify_items": null,
            "left": null,
            "margin": null,
            "max_height": null,
            "max_width": null,
            "min_height": null,
            "min_width": null,
            "object_fit": null,
            "object_position": null,
            "order": null,
            "overflow": null,
            "overflow_x": null,
            "overflow_y": null,
            "padding": null,
            "right": null,
            "top": null,
            "visibility": null,
            "width": null
          }
        },
        "18160e7eee0a4673b8a40e2273161ac9": {
          "model_module": "@jupyter-widgets/controls",
          "model_name": "ProgressStyleModel",
          "model_module_version": "1.5.0",
          "state": {
            "_model_module": "@jupyter-widgets/controls",
            "_model_module_version": "1.5.0",
            "_model_name": "ProgressStyleModel",
            "_view_count": null,
            "_view_module": "@jupyter-widgets/base",
            "_view_module_version": "1.2.0",
            "_view_name": "StyleView",
            "bar_color": null,
            "description_width": ""
          }
        },
        "047b2e142eeb481a9056b6ee40d8f85d": {
          "model_module": "@jupyter-widgets/base",
          "model_name": "LayoutModel",
          "model_module_version": "1.2.0",
          "state": {
            "_model_module": "@jupyter-widgets/base",
            "_model_module_version": "1.2.0",
            "_model_name": "LayoutModel",
            "_view_count": null,
            "_view_module": "@jupyter-widgets/base",
            "_view_module_version": "1.2.0",
            "_view_name": "LayoutView",
            "align_content": null,
            "align_items": null,
            "align_self": null,
            "border": null,
            "bottom": null,
            "display": null,
            "flex": null,
            "flex_flow": null,
            "grid_area": null,
            "grid_auto_columns": null,
            "grid_auto_flow": null,
            "grid_auto_rows": null,
            "grid_column": null,
            "grid_gap": null,
            "grid_row": null,
            "grid_template_areas": null,
            "grid_template_columns": null,
            "grid_template_rows": null,
            "height": null,
            "justify_content": null,
            "justify_items": null,
            "left": null,
            "margin": null,
            "max_height": null,
            "max_width": null,
            "min_height": null,
            "min_width": null,
            "object_fit": null,
            "object_position": null,
            "order": null,
            "overflow": null,
            "overflow_x": null,
            "overflow_y": null,
            "padding": null,
            "right": null,
            "top": null,
            "visibility": null,
            "width": null
          }
        },
        "e616d47892904ba09333fba277ed04ef": {
          "model_module": "@jupyter-widgets/controls",
          "model_name": "DescriptionStyleModel",
          "model_module_version": "1.5.0",
          "state": {
            "_model_module": "@jupyter-widgets/controls",
            "_model_module_version": "1.5.0",
            "_model_name": "DescriptionStyleModel",
            "_view_count": null,
            "_view_module": "@jupyter-widgets/base",
            "_view_module_version": "1.2.0",
            "_view_name": "StyleView",
            "description_width": ""
          }
        }
      }
    },
    "gpuClass": "standard"
  },
  "cells": [
    {
      "cell_type": "markdown",
      "metadata": {
        "id": "view-in-github",
        "colab_type": "text"
      },
      "source": [
        "<a href=\"https://colab.research.google.com/github/KiarashVaziri/DL-Homework3/blob/main/Q2.ipynb\" target=\"_parent\"><img src=\"https://colab.research.google.com/assets/colab-badge.svg\" alt=\"Open In Colab\"/></a>"
      ]
    },
    {
      "cell_type": "markdown",
      "source": [
        "# Packages"
      ],
      "metadata": {
        "id": "JMb-INWBKVY_"
      }
    },
    {
      "cell_type": "code",
      "metadata": {
        "id": "xM2KKbK13UV8"
      },
      "source": [
        "import numpy as np\n",
        "%matplotlib inline\n",
        "import matplotlib.pyplot as plt\n",
        "from PIL import Image"
      ],
      "execution_count": 1,
      "outputs": []
    },
    {
      "cell_type": "code",
      "metadata": {
        "id": "RY6x0u8_3ix7"
      },
      "source": [
        "import torch\n",
        "import torchvision\n",
        "from torchvision import datasets, models, transforms\n",
        "import torch.nn as nn\n",
        "from torch.nn import functional as F\n",
        "from torchvision.models import resnet18, resnet50, ResNet50_Weights\n",
        "import torch.optim as optim\n",
        "from torch.autograd import Variable"
      ],
      "execution_count": 23,
      "outputs": []
    },
    {
      "cell_type": "code",
      "source": [
        "import copy\n",
        "from collections import defaultdict\n",
        "from tqdm import tqdm"
      ],
      "metadata": {
        "id": "4k8Ez5DCge4T"
      },
      "execution_count": 13,
      "outputs": []
    },
    {
      "cell_type": "code",
      "metadata": {
        "id": "ATOmTBb24shB"
      },
      "source": [
        "!mkdir models"
      ],
      "execution_count": 4,
      "outputs": []
    },
    {
      "cell_type": "markdown",
      "source": [
        "# Load Data"
      ],
      "metadata": {
        "id": "zpUEdZW0Kx7j"
      }
    },
    {
      "cell_type": "code",
      "metadata": {
        "id": "Nh3ymtDomOnR"
      },
      "source": [
        "batch_size = 64\n",
        "learning_rate = 3e-3\n",
        "num_epochs = 5"
      ],
      "execution_count": 5,
      "outputs": []
    },
    {
      "cell_type": "code",
      "metadata": {
        "id": "9BTgUxQD6vlx",
        "colab": {
          "base_uri": "https://localhost:8080/"
        },
        "outputId": "b32feaa1-efe9-4227-85ba-2dc328a7d2d3"
      },
      "source": [
        "data_transform = transforms.Compose([\n",
        "        transforms.Resize((224, 224)),\n",
        "        transforms.ToTensor(),\n",
        "        transforms.Normalize((0.4914, 0.4822, 0.4465), (0.2023, 0.1994, 0.2010)),\n",
        "    ])\n",
        "\n",
        "weight_transform = ResNet50_Weights.IMAGENET1K_V2.transforms()\n",
        "\n",
        "data_sets = {\n",
        "    'train' : datasets.CIFAR10(root='.', download=True, train=True, transform=weight_transform), \n",
        "    'test' : datasets.CIFAR10(root='.', download=True, train=False, transform=weight_transform)\n",
        "}"
      ],
      "execution_count": 24,
      "outputs": [
        {
          "output_type": "stream",
          "name": "stdout",
          "text": [
            "Files already downloaded and verified\n",
            "Files already downloaded and verified\n"
          ]
        }
      ]
    },
    {
      "cell_type": "code",
      "metadata": {
        "id": "bWg8J19n_t0w",
        "colab": {
          "base_uri": "https://localhost:8080/"
        },
        "outputId": "7e735e70-3cba-42b3-8d98-7b7331008190"
      },
      "source": [
        "print(data_sets['train'])\n",
        "print('='*85)\n",
        "print(data_sets['test'])"
      ],
      "execution_count": 25,
      "outputs": [
        {
          "output_type": "stream",
          "name": "stdout",
          "text": [
            "Dataset CIFAR10\n",
            "    Number of datapoints: 50000\n",
            "    Root location: .\n",
            "    Split: Train\n",
            "    StandardTransform\n",
            "Transform: ImageClassification(\n",
            "               crop_size=[224]\n",
            "               resize_size=[232]\n",
            "               mean=[0.485, 0.456, 0.406]\n",
            "               std=[0.229, 0.224, 0.225]\n",
            "               interpolation=InterpolationMode.BILINEAR\n",
            "           )\n",
            "=====================================================================================\n",
            "Dataset CIFAR10\n",
            "    Number of datapoints: 10000\n",
            "    Root location: .\n",
            "    Split: Test\n",
            "    StandardTransform\n",
            "Transform: ImageClassification(\n",
            "               crop_size=[224]\n",
            "               resize_size=[232]\n",
            "               mean=[0.485, 0.456, 0.406]\n",
            "               std=[0.229, 0.224, 0.225]\n",
            "               interpolation=InterpolationMode.BILINEAR\n",
            "           )\n"
          ]
        }
      ]
    },
    {
      "cell_type": "code",
      "metadata": {
        "id": "l3472qdyAdji"
      },
      "source": [
        "dataloaders = {\n",
        "    'train':\n",
        "    torch.utils.data.DataLoader(data_sets['train'],\n",
        "                                batch_size=batch_size,\n",
        "                                shuffle=True),\n",
        "    'test':\n",
        "    torch.utils.data.DataLoader(data_sets['test'],\n",
        "                                batch_size=batch_size,\n",
        "                                shuffle=False)\n",
        "}"
      ],
      "execution_count": 8,
      "outputs": []
    },
    {
      "cell_type": "code",
      "metadata": {
        "id": "CHonbquGAu9h",
        "colab": {
          "base_uri": "https://localhost:8080/"
        },
        "outputId": "ae94649d-c69c-4aa3-f877-05242ddbcdfa"
      },
      "source": [
        "use_cuda = torch.cuda.is_available()\n",
        "\n",
        "device = torch.device(\"cuda:0\" if use_cuda else \"cpu\")\n",
        "print(device)"
      ],
      "execution_count": 9,
      "outputs": [
        {
          "output_type": "stream",
          "name": "stdout",
          "text": [
            "cuda:0\n"
          ]
        }
      ]
    },
    {
      "cell_type": "markdown",
      "source": [
        "# Part a"
      ],
      "metadata": {
        "id": "pj5bZTDSezIn"
      }
    },
    {
      "cell_type": "markdown",
      "source": [
        "## Load Pretrained Model"
      ],
      "metadata": {
        "id": "BCPLD7H5VuAS"
      }
    },
    {
      "cell_type": "code",
      "metadata": {
        "id": "-pddKYoSBARC",
        "colab": {
          "base_uri": "https://localhost:8080/",
          "height": 67,
          "referenced_widgets": [
            "b44a109502ce45d59a987472c7505c00",
            "3fc83a34b8764fa68d97a703e829e6cd",
            "a194768d86cd4b54b1c86ab548bcea84",
            "f193ea019a354656966619a3a50539ee",
            "561a2f2f04aa455cabd2b05e1d4d816a",
            "60c9ddc35987486da10eb7a5e787761b",
            "49a7eb7d14a34c5294c3b9b15066069a",
            "893d9cac2ef646eda32b40c55c140930",
            "18160e7eee0a4673b8a40e2273161ac9",
            "047b2e142eeb481a9056b6ee40d8f85d",
            "e616d47892904ba09333fba277ed04ef"
          ]
        },
        "outputId": "3cd7b161-f51f-4209-d349-ce893337fb67"
      },
      "source": [
        "model = models.resnet50(weights=\"IMAGENET1K_V2\")\n",
        "model = model.to(device)\n",
        "\n",
        "# model = model.cuda() if use_cuda else model\n",
        "for param in model.parameters():\n",
        "  param.requires_grad = False\n",
        "\n",
        "num_ftrs = model.fc.in_features\n",
        "model.fc = torch.nn.Linear(num_ftrs, len(data_sets['train'].classes))\n",
        "model.fc = model.fc.cuda() if use_cuda else model.fc\n",
        "\n",
        "criterion = nn.CrossEntropyLoss()\n",
        "# optimizer = optim.SGD(model.fc.parameters(), lr=learning_rate, momentum=0.9, weight_decay=5e-4)\n",
        "optimizer = optim.Adam(model.fc.parameters())\n",
        "# scheduler = torch.optim.lr_scheduler.StepLR(optimizer, step_size=10, gamma=0.1)"
      ],
      "execution_count": 15,
      "outputs": [
        {
          "output_type": "stream",
          "name": "stderr",
          "text": [
            "Downloading: \"https://download.pytorch.org/models/resnet50-11ad3fa6.pth\" to /root/.cache/torch/hub/checkpoints/resnet50-11ad3fa6.pth\n"
          ]
        },
        {
          "output_type": "display_data",
          "data": {
            "text/plain": [
              "  0%|          | 0.00/97.8M [00:00<?, ?B/s]"
            ],
            "application/vnd.jupyter.widget-view+json": {
              "version_major": 2,
              "version_minor": 0,
              "model_id": "b44a109502ce45d59a987472c7505c00"
            }
          },
          "metadata": {}
        }
      ]
    },
    {
      "cell_type": "markdown",
      "source": [
        "## Linear-tuning"
      ],
      "metadata": {
        "id": "M5GUM95ZVx7w"
      }
    },
    {
      "cell_type": "code",
      "metadata": {
        "id": "UbuBXRmFBssq",
        "colab": {
          "base_uri": "https://localhost:8080/"
        },
        "outputId": "6d1e7221-f936-4de4-fa50-c1413f0abca6"
      },
      "source": [
        "train_acces, test_acces = [], []\n",
        "train_losses, test_losses = [], []\n",
        "total_step = len(dataloaders['train'])\n",
        "test_loss_min = np.Inf\n",
        "\n",
        "for epoch in range(1, num_epochs+1):\n",
        "    print(f'Epoch {epoch}\\n')\n",
        "\n",
        "    network_learned = False\n",
        "\n",
        "    for phase in ['train', 'test']:\n",
        "\n",
        "        running_loss = 0.0\n",
        "        running_corrects = 0\n",
        "\n",
        "        if phase == 'train':\n",
        "            model.train()\n",
        "\n",
        "            for batch_idx, (inputs, labels) in enumerate(dataloaders[phase]):\n",
        "\n",
        "                if use_cuda:\n",
        "                    inputs = Variable(inputs.cuda())\n",
        "                    labels = Variable(labels.cuda())\n",
        "                else:\n",
        "                    inputs, labels = Variable(inputs), Variable(labels)\n",
        "  \n",
        "                inputs = inputs.float()\n",
        "                optimizer.zero_grad()\n",
        "                outputs = model(inputs)\n",
        "                loss = criterion(outputs, labels)\n",
        "                loss.backward()\n",
        "                optimizer.step()\n",
        "\n",
        "                _, preds = torch.max(outputs, 1)\n",
        "                running_loss += loss.item()\n",
        "                running_corrects += torch.sum(preds == labels.data)\n",
        "                if (batch_idx) % 50 == 0:\n",
        "                    print ('Epoch [{}/{}], Step [{}/{}], Loss: {:.4f}'.format(epoch, num_epochs, batch_idx, total_step, loss.item()))\n",
        "            # scheduler.step()\n",
        "        else:\n",
        "            with torch.no_grad():\n",
        "                model.eval()\n",
        "                for inputs, labels in dataloaders[phase]:\n",
        "                    if use_cuda:\n",
        "                        inputs = Variable(inputs.cuda())\n",
        "                        labels = Variable(labels.cuda())\n",
        "                    else:\n",
        "                        inputs, labels = Variable(inputs), Variable(labels)\n",
        "                    \n",
        "                    inputs = inputs.float()\n",
        "                    outputs = model(inputs)\n",
        "                    loss = criterion(outputs, labels)\n",
        "\n",
        "                    _, preds = torch.max(outputs, 1)\n",
        "                    running_loss += loss.item()\n",
        "                    running_corrects += torch.sum(preds == labels.data)\n",
        "            network_learned = running_loss < test_loss_min\n",
        "            test_loss_min = running_loss if network_learned else test_loss_min\n",
        "\n",
        "\n",
        "        epoch_loss = running_loss / len(data_sets[phase])\n",
        "        epoch_acc = running_corrects.double() / len(data_sets[phase])\n",
        "        \n",
        "        if phase == 'train':\n",
        "            train_acces.append(epoch_acc * 100)\n",
        "            train_losses.append(epoch_loss)\n",
        "        else:\n",
        "            test_acces.append(epoch_acc * 100)\n",
        "            test_losses.append(epoch_loss)\n",
        "    print(f'\\ntrain-loss: {np.mean(train_losses):.4f}, train-acc: {train_acces[-1]:.4f}')\n",
        "    print(f'test loss: {np.mean(test_losses):.4f}, test acc: {test_acces[-1]:.4f}\\n')\n",
        "\n",
        "    if network_learned:\n",
        "        torch.save(model.state_dict(), 'models/weights.h5')\n",
        "        print('Improvement-Detected, save-model')"
      ],
      "execution_count": 16,
      "outputs": [
        {
          "output_type": "stream",
          "name": "stdout",
          "text": [
            "Epoch 1\n",
            "\n",
            "Epoch [1/5], Step [0/782], Loss: 2.3243\n",
            "Epoch [1/5], Step [50/782], Loss: 1.2613\n",
            "Epoch [1/5], Step [100/782], Loss: 1.0883\n",
            "Epoch [1/5], Step [150/782], Loss: 0.8777\n",
            "Epoch [1/5], Step [200/782], Loss: 0.9000\n",
            "Epoch [1/5], Step [250/782], Loss: 0.8162\n",
            "Epoch [1/5], Step [300/782], Loss: 0.7409\n",
            "Epoch [1/5], Step [350/782], Loss: 0.6171\n",
            "Epoch [1/5], Step [400/782], Loss: 0.7349\n",
            "Epoch [1/5], Step [450/782], Loss: 0.7545\n",
            "Epoch [1/5], Step [500/782], Loss: 0.6001\n",
            "Epoch [1/5], Step [550/782], Loss: 0.7314\n",
            "Epoch [1/5], Step [600/782], Loss: 0.8116\n",
            "Epoch [1/5], Step [650/782], Loss: 0.8530\n",
            "Epoch [1/5], Step [700/782], Loss: 0.8925\n",
            "Epoch [1/5], Step [750/782], Loss: 0.7279\n",
            "\n",
            "train-loss: 0.0131, train-acc: 73.7760\n",
            "test loss: 0.0095, test acc: 79.7700\n",
            "\n",
            "Improvement-Detected, save-model\n",
            "Epoch 2\n",
            "\n",
            "Epoch [2/5], Step [0/782], Loss: 0.4103\n",
            "Epoch [2/5], Step [50/782], Loss: 0.5892\n",
            "Epoch [2/5], Step [100/782], Loss: 0.6609\n",
            "Epoch [2/5], Step [150/782], Loss: 0.5420\n",
            "Epoch [2/5], Step [200/782], Loss: 0.6521\n",
            "Epoch [2/5], Step [250/782], Loss: 0.6813\n",
            "Epoch [2/5], Step [300/782], Loss: 0.5113\n",
            "Epoch [2/5], Step [350/782], Loss: 0.6644\n",
            "Epoch [2/5], Step [400/782], Loss: 0.7204\n",
            "Epoch [2/5], Step [450/782], Loss: 0.6632\n",
            "Epoch [2/5], Step [500/782], Loss: 0.4849\n",
            "Epoch [2/5], Step [550/782], Loss: 0.6182\n",
            "Epoch [2/5], Step [600/782], Loss: 0.4610\n",
            "Epoch [2/5], Step [650/782], Loss: 0.5973\n",
            "Epoch [2/5], Step [700/782], Loss: 0.4449\n",
            "Epoch [2/5], Step [750/782], Loss: 0.5306\n",
            "\n",
            "train-loss: 0.0112, train-acc: 79.9200\n",
            "test loss: 0.0092, test acc: 80.9900\n",
            "\n",
            "Improvement-Detected, save-model\n",
            "Epoch 3\n",
            "\n",
            "Epoch [3/5], Step [0/782], Loss: 0.6939\n",
            "Epoch [3/5], Step [50/782], Loss: 0.4593\n",
            "Epoch [3/5], Step [100/782], Loss: 0.4724\n",
            "Epoch [3/5], Step [150/782], Loss: 0.5576\n",
            "Epoch [3/5], Step [200/782], Loss: 0.5839\n",
            "Epoch [3/5], Step [250/782], Loss: 0.5622\n",
            "Epoch [3/5], Step [300/782], Loss: 0.6853\n",
            "Epoch [3/5], Step [350/782], Loss: 0.6198\n",
            "Epoch [3/5], Step [400/782], Loss: 0.7003\n",
            "Epoch [3/5], Step [450/782], Loss: 0.5488\n",
            "Epoch [3/5], Step [500/782], Loss: 0.5091\n",
            "Epoch [3/5], Step [550/782], Loss: 0.6052\n",
            "Epoch [3/5], Step [600/782], Loss: 0.6064\n",
            "Epoch [3/5], Step [650/782], Loss: 0.3950\n",
            "Epoch [3/5], Step [700/782], Loss: 0.5328\n",
            "Epoch [3/5], Step [750/782], Loss: 0.5256\n",
            "\n",
            "train-loss: 0.0103, train-acc: 81.9000\n",
            "test loss: 0.0090, test acc: 81.1100\n",
            "\n",
            "Improvement-Detected, save-model\n",
            "Epoch 4\n",
            "\n",
            "Epoch [4/5], Step [0/782], Loss: 0.5326\n",
            "Epoch [4/5], Step [50/782], Loss: 0.3942\n",
            "Epoch [4/5], Step [100/782], Loss: 0.5195\n",
            "Epoch [4/5], Step [150/782], Loss: 0.4167\n",
            "Epoch [4/5], Step [200/782], Loss: 0.4203\n",
            "Epoch [4/5], Step [250/782], Loss: 0.3949\n",
            "Epoch [4/5], Step [300/782], Loss: 0.4403\n",
            "Epoch [4/5], Step [350/782], Loss: 0.4001\n",
            "Epoch [4/5], Step [400/782], Loss: 0.5546\n",
            "Epoch [4/5], Step [450/782], Loss: 0.5838\n",
            "Epoch [4/5], Step [500/782], Loss: 0.4288\n",
            "Epoch [4/5], Step [550/782], Loss: 0.4617\n",
            "Epoch [4/5], Step [600/782], Loss: 0.5647\n",
            "Epoch [4/5], Step [650/782], Loss: 0.4418\n",
            "Epoch [4/5], Step [700/782], Loss: 0.4218\n",
            "Epoch [4/5], Step [750/782], Loss: 0.6831\n",
            "\n",
            "train-loss: 0.0097, train-acc: 82.6420\n",
            "test loss: 0.0088, test acc: 82.1200\n",
            "\n",
            "Improvement-Detected, save-model\n",
            "Epoch 5\n",
            "\n",
            "Epoch [5/5], Step [0/782], Loss: 0.5665\n",
            "Epoch [5/5], Step [50/782], Loss: 0.6550\n",
            "Epoch [5/5], Step [100/782], Loss: 0.5212\n",
            "Epoch [5/5], Step [150/782], Loss: 0.3990\n",
            "Epoch [5/5], Step [200/782], Loss: 0.4801\n",
            "Epoch [5/5], Step [250/782], Loss: 0.3692\n",
            "Epoch [5/5], Step [300/782], Loss: 0.4104\n",
            "Epoch [5/5], Step [350/782], Loss: 0.4306\n",
            "Epoch [5/5], Step [400/782], Loss: 0.4712\n",
            "Epoch [5/5], Step [450/782], Loss: 0.5177\n",
            "Epoch [5/5], Step [500/782], Loss: 0.4562\n",
            "Epoch [5/5], Step [550/782], Loss: 0.5526\n",
            "Epoch [5/5], Step [600/782], Loss: 0.3931\n",
            "Epoch [5/5], Step [650/782], Loss: 0.4980\n",
            "Epoch [5/5], Step [700/782], Loss: 0.3988\n",
            "Epoch [5/5], Step [750/782], Loss: 0.5958\n",
            "\n",
            "train-loss: 0.0093, train-acc: 83.5300\n",
            "test loss: 0.0087, test acc: 81.6800\n",
            "\n"
          ]
        }
      ]
    },
    {
      "cell_type": "code",
      "source": [
        "train_accuracy = np.array([acc.cpu().numpy() for acc in train_acces])\n",
        "test_accuracy = np.array([acc.cpu().numpy() for acc in test_acces])"
      ],
      "metadata": {
        "id": "PMfYwLfIb1Nb"
      },
      "execution_count": 17,
      "outputs": []
    },
    {
      "cell_type": "code",
      "metadata": {
        "id": "gbPHodle7eCd",
        "colab": {
          "base_uri": "https://localhost:8080/",
          "height": 296
        },
        "outputId": "44913623-0f70-4a46-f0d4-2b56514ddfb5"
      },
      "source": [
        "plt.figure(figsize=(14,4))\n",
        "\n",
        "plt.subplot(121)\n",
        "plt.title(\"Train-Test Accuracy\")\n",
        "plt.plot(train_accuracy, color='blue', label='Training acc')\n",
        "plt.plot(test_accuracy, color='red', label='Test acc')\n",
        "plt.xlabel('num_epochs')\n",
        "plt.ylabel('accuracy')\n",
        "plt.legend(frameon=False)\n",
        "\n",
        "plt.subplot(122)\n",
        "plt.title(\"Train-Test Loss\")\n",
        "plt.plot(train_losses, color='blue', label='Training loss')\n",
        "plt.plot(test_losses, color='red', label='Test loss')\n",
        "plt.xlabel('num_epochs')\n",
        "plt.ylabel('loss')\n",
        "plt.legend(frameon=False)\n",
        "\n",
        "plt.show()"
      ],
      "execution_count": null,
      "outputs": [
        {
          "output_type": "display_data",
          "data": {
            "text/plain": [
              "<Figure size 1008x288 with 2 Axes>"
            ],
            "image/png": "[encoded data removed]"
          },
          "metadata": {
            "needs_background": "light"
          }
        }
      ]
    },
    {
      "cell_type": "code",
      "source": [
        "teacher_model = model"
      ],
      "metadata": {
        "id": "9Nw3sw3VVRGV"
      },
      "execution_count": 18,
      "outputs": []
    },
    {
      "cell_type": "markdown",
      "source": [
        "## Evaluation\n",
        "The pretrained model of ResNet50 achieves test accuracy **%82.24** on CIFAR10. "
      ],
      "metadata": {
        "id": "crVvac3-V52c"
      }
    },
    {
      "cell_type": "markdown",
      "source": [
        "# Part b"
      ],
      "metadata": {
        "id": "lGQhxyRwVPs4"
      }
    },
    {
      "cell_type": "markdown",
      "source": [
        "## Define Knowledge Distillation Loss Function"
      ],
      "metadata": {
        "id": "A2udE36gWq4W"
      }
    },
    {
      "cell_type": "code",
      "source": [
        "def loss_kd(student_outputs, labels, teacher_outputs, temparature=1, alpha=0.5):\n",
        "  teacher_s = F.softmax(teacher_outputs / temparature, dim=1)\n",
        "  student_s = F.softmax(student_outputs / temparature, dim=1)\n",
        "  d_loss = (teacher_s * torch.log(student_s)).sum(axis=1).mean()\n",
        "  normal_loss = nn.CrossEntropyLoss()(student_outputs, labels)\n",
        "  return (1-alpha) * normal_loss - alpha * (temparature ** 2) * d_loss"
      ],
      "metadata": {
        "id": "excnwMa1i7Io"
      },
      "execution_count": 65,
      "outputs": []
    },
    {
      "cell_type": "markdown",
      "source": [
        "## Load Student and Teacher Models"
      ],
      "metadata": {
        "id": "EHSP57IQW6Ec"
      }
    },
    {
      "cell_type": "code",
      "source": [
        "num_epochs = 5\n",
        "alpha, T = 0.5, 8\n",
        "max_lr = 0.01\n",
        "weight_decay = 1e-4"
      ],
      "metadata": {
        "id": "PkY3knw6gJHs"
      },
      "execution_count": 66,
      "outputs": []
    },
    {
      "cell_type": "code",
      "source": [
        "student_model = models.resnet18(weights=None)\n",
        "num_ftrs = model.fc.in_features\n",
        "student_model.fc = nn.Linear(in_features=num_ftrs, out_features=len(data_sets['train'].classes))\n",
        "params = student_model.parameters()\n",
        "\n",
        "optimizer = optim.Adam(params, max_lr, weight_decay=weight_decay)\n",
        "sched = optim.lr_scheduler.OneCycleLR(optimizer, max_lr, epochs=num_epochs, \n",
        "                                            steps_per_epoch=len(dataloaders['train']))\n",
        "\n",
        "train_acces, test_acces = [], []\n",
        "train_losses, test_losses = [], []\n",
        "total_step = len(dataloaders['train'])\n",
        "test_loss_min = np.Inf"
      ],
      "metadata": {
        "id": "RefwZmzq0Z7L"
      },
      "execution_count": 69,
      "outputs": []
    },
    {
      "cell_type": "markdown",
      "source": [
        "## Train"
      ],
      "metadata": {
        "id": "M__9UtrUCWnh"
      }
    },
    {
      "cell_type": "code",
      "source": [
        "student_model.to(device)\n",
        "teacher_model.to(device)\n",
        "\n",
        "for epoch in range(1, num_epochs+1):\n",
        "  for phase in ['train', 'test']:\n",
        "    if phase == 'train':\n",
        "      model.train()\n",
        "    else:\n",
        "      model.eval()\n",
        "    data = tqdm(dataloaders[phase])\n",
        "    n_data = 0\n",
        "    correct_all = 0\n",
        "    loss_all = 0\n",
        "\n",
        "    for X, y in data:\n",
        "        n_data += X.shape[0]\n",
        "        X = X.to(device)\n",
        "        y = y.to(device)\n",
        "        pred = student_model(X)\n",
        "        pred_t = teacher_model(X)\n",
        "        loss = loss_kd(pred, y, pred_t, temparature=T, alpha=alpha)\n",
        "\n",
        "        if phase == 'train':\n",
        "            optimizer.zero_grad()\n",
        "            loss.backward()\n",
        "            optimizer.step()\n",
        "            if sched is not None:\n",
        "              sched.step()\n",
        "\n",
        "        pred = pred.argmax(axis=1)\n",
        "        correct_all += (pred == y).sum().item()\n",
        "        loss_all += loss.item()\n",
        "        epoch_acc = correct_all/n_data\n",
        "        epoch_loss = loss_all/n_data\n",
        "        data.set_description(f'Epoch [{epoch}/{num_epochs}], {phase } loss: {epoch_loss:.4f}, {phase} accuracy: {100*epoch_acc:.2f}%')\n",
        "    if phase == 'train':\n",
        "        train_acces.append(epoch_acc*100)\n",
        "        train_losses.append(epoch_loss)\n",
        "    else:\n",
        "        test_acces.append(epoch_acc*100)\n",
        "        test_losses.append(epoch_loss)"
      ],
      "metadata": {
        "colab": {
          "base_uri": "https://localhost:8080/"
        },
        "id": "1R5Il368gBop",
        "outputId": "d143b452-afb0-47c4-ad9b-53b265f42cc6"
      },
      "execution_count": 70,
      "outputs": [
        {
          "output_type": "stream",
          "name": "stderr",
          "text": [
            "Epoch [1/5], train loss: 1.1367, train accuracy: 53.21%: 100%|██████████| 782/782 [06:13<00:00,  2.09it/s]\n",
            "Epoch [1/5], test loss: 1.1390, test accuracy: 58.98%: 100%|██████████| 157/157 [00:54<00:00,  2.86it/s]\n",
            "Epoch [2/5], train loss: 1.1291, train accuracy: 66.45%: 100%|██████████| 782/782 [06:12<00:00,  2.10it/s]\n",
            "Epoch [2/5], test loss: 1.1325, test accuracy: 69.12%: 100%|██████████| 157/157 [00:55<00:00,  2.85it/s]\n",
            "Epoch [3/5], train loss: 1.1258, train accuracy: 72.96%: 100%|██████████| 782/782 [06:12<00:00,  2.10it/s]\n",
            "Epoch [3/5], test loss: 1.1286, test accuracy: 76.39%: 100%|██████████| 157/157 [00:54<00:00,  2.86it/s]\n",
            "Epoch [4/5], train loss: 1.1225, train accuracy: 79.05%: 100%|██████████| 782/782 [06:12<00:00,  2.10it/s]\n",
            "Epoch [4/5], test loss: 1.1261, test accuracy: 81.18%: 100%|██████████| 157/157 [00:54<00:00,  2.86it/s]\n",
            "Epoch [5/5], train loss: 1.1191, train accuracy: 86.53%: 100%|██████████| 782/782 [06:14<00:00,  2.09it/s]\n",
            "Epoch [5/5], test loss: 1.1242, test accuracy: 85.24%: 100%|██████████| 157/157 [00:55<00:00,  2.83it/s]\n"
          ]
        }
      ]
    },
    {
      "cell_type": "markdown",
      "source": [
        "## Results"
      ],
      "metadata": {
        "id": "qcoWd1neq5tp"
      }
    },
    {
      "cell_type": "code",
      "metadata": {
        "colab": {
          "base_uri": "https://localhost:8080/",
          "height": 296
        },
        "outputId": "d305640c-6b07-4c97-fbf2-8e7af5c4a125",
        "id": "6urpGLClq7ta"
      },
      "source": [
        "plt.figure(figsize=(14,4))\n",
        "\n",
        "plt.subplot(121)\n",
        "plt.title(\"Train-Test Accuracy\")\n",
        "plt.plot(train_accuracy, color='blue', label='Training acc')\n",
        "plt.plot(test_accuracy, color='red', label='Test acc')\n",
        "plt.xlabel('num_epochs')\n",
        "plt.ylabel('accuracy')\n",
        "plt.legend(frameon=False)\n",
        "\n",
        "plt.subplot(122)\n",
        "plt.title(\"Train-Test Loss\")\n",
        "plt.plot(train_losses, color='blue', label='Training loss')\n",
        "plt.plot(test_losses, color='red', label='Test loss')\n",
        "plt.xlabel('num_epochs')\n",
        "plt.ylabel('loss')\n",
        "plt.legend(frameon=False)\n",
        "\n",
        "plt.show()"
      ],
      "execution_count": 78,
      "outputs": [
        {
          "output_type": "display_data",
          "data": {
            "text/plain": [
              "<Figure size 1008x288 with 2 Axes>"
            ],
            "image/png": "[encoded data removed]"
          },
          "metadata": {
            "needs_background": "light"
          }
        }
      ]
    },
    {
      "cell_type": "markdown",
      "source": [
        "We can observe that the test accuracy increases with teacher-student approach up to **%85.24**"
      ],
      "metadata": {
        "id": "WuwsnJIb3avc"
      }
    },
    {
      "cell_type": "markdown",
      "source": [
        "NOTE: For different pairs of tau and alpha, training process was conducted for 2 epochs and out of all tested pairs, the best result has been obtained with **(α,τ)=(0.5, 8)**."
      ],
      "metadata": {
        "id": "XhyecxUnCcB1"
      }
    },
    {
      "cell_type": "markdown",
      "source": [
        "# Part c\n"
      ],
      "metadata": {
        "id": "cSY5irwGDD0J"
      }
    },
    {
      "cell_type": "code",
      "source": [
        "num_epochs = 5\n",
        "max_lr = 0.01\n",
        "weight_decay = 1e-4"
      ],
      "metadata": {
        "id": "ZiXwmhwRDD0N"
      },
      "execution_count": 80,
      "outputs": []
    },
    {
      "cell_type": "code",
      "source": [
        "student_model = models.resnet18(weights=None)\n",
        "num_ftrs = model.fc.in_features\n",
        "student_model.fc = nn.Linear(in_features=num_ftrs, out_features=len(data_sets['train'].classes))\n",
        "params = student_model.parameters()\n",
        "\n",
        "criterion = nn.CrossEntropyLoss()\n",
        "optimizer = optim.Adam(params, max_lr, weight_decay=weight_decay)\n",
        "sched = optim.lr_scheduler.OneCycleLR(optimizer, max_lr, epochs=num_epochs, \n",
        "                                            steps_per_epoch=len(dataloaders['train']))\n",
        "\n",
        "\n",
        "train_acces, test_acces = [], []\n",
        "train_losses, test_losses = [], []\n",
        "total_step = len(dataloaders['train'])\n",
        "test_loss_min = np.Inf"
      ],
      "metadata": {
        "id": "mDjSDZYXDD0O"
      },
      "execution_count": 81,
      "outputs": []
    },
    {
      "cell_type": "code",
      "source": [
        "student_model.to(device)\n",
        "\n",
        "for epoch in range(1, num_epochs+1):\n",
        "  for phase in ['train', 'test']:\n",
        "    if phase == 'train':\n",
        "      model.train()\n",
        "    else:\n",
        "      model.eval()\n",
        "    data = tqdm(dataloaders[phase])\n",
        "    n_data = 0\n",
        "    correct_all = 0\n",
        "    loss_all = 0\n",
        "\n",
        "    for X, y in data:\n",
        "        n_data += X.shape[0]\n",
        "        X = X.to(device)\n",
        "        y = y.to(device)\n",
        "        pred = student_model(X)\n",
        "        loss = criterion(pred, y)\n",
        "\n",
        "        if phase == 'train':\n",
        "            optimizer.zero_grad()\n",
        "            loss.backward()\n",
        "            optimizer.step()\n",
        "            if sched is not None:\n",
        "              sched.step()\n",
        "\n",
        "        pred = pred.argmax(axis=1)\n",
        "        correct_all += (pred == y).sum().item()\n",
        "        loss_all += loss.item()\n",
        "        epoch_acc = correct_all/n_data\n",
        "        epoch_loss = loss_all/n_data\n",
        "        data.set_description(f'Epoch [{epoch}/{num_epochs}], {phase } loss: {epoch_loss:.4f}, {phase} accuracy: {100*epoch_acc:.2f}%')\n",
        "\n",
        "    if phase == 'train':\n",
        "        train_acces.append(epoch_acc*100)\n",
        "        train_losses.append(epoch_loss)\n",
        "    else:\n",
        "        test_acces.append(epoch_acc*100)\n",
        "        test_losses.append(epoch_loss)"
      ],
      "metadata": {
        "colab": {
          "base_uri": "https://localhost:8080/"
        },
        "outputId": "08e80592-34a8-48ef-f6ad-c41f425c7a3b",
        "id": "07yeMssODD0P"
      },
      "execution_count": 82,
      "outputs": [
        {
          "output_type": "stream",
          "name": "stderr",
          "text": [
            "Epoch [1/5], train loss: 0.0214, train accuracy: 50.56%: 100%|██████████| 782/782 [03:48<00:00,  3.42it/s]\n",
            "Epoch [1/5], test loss: 0.0180, test accuracy: 60.42%: 100%|██████████| 157/157 [00:25<00:00,  6.05it/s]\n",
            "Epoch [2/5], train loss: 0.0166, train accuracy: 62.59%: 100%|██████████| 782/782 [03:46<00:00,  3.45it/s]\n",
            "Epoch [2/5], test loss: 0.0173, test accuracy: 60.87%: 100%|██████████| 157/157 [00:25<00:00,  6.06it/s]\n",
            "Epoch [3/5], train loss: 0.0142, train accuracy: 68.35%: 100%|██████████| 782/782 [03:46<00:00,  3.45it/s]\n",
            "Epoch [3/5], test loss: 0.0126, test accuracy: 72.21%: 100%|██████████| 157/157 [00:25<00:00,  6.07it/s]\n",
            "Epoch [4/5], train loss: 0.0107, train accuracy: 76.37%: 100%|██████████| 782/782 [03:44<00:00,  3.48it/s]\n",
            "Epoch [4/5], test loss: 0.0094, test accuracy: 79.50%: 100%|██████████| 157/157 [00:25<00:00,  6.07it/s]\n",
            "Epoch [5/5], train loss: 0.0068, train accuracy: 85.12%: 100%|██████████| 782/782 [03:45<00:00,  3.47it/s]\n",
            "Epoch [5/5], test loss: 0.0075, test accuracy: 83.77%: 100%|██████████| 157/157 [00:26<00:00,  5.98it/s]\n"
          ]
        }
      ]
    },
    {
      "cell_type": "code",
      "metadata": {
        "colab": {
          "base_uri": "https://localhost:8080/",
          "height": 296
        },
        "outputId": "f285684e-5843-4b9d-fbc7-fd1d3c434eec",
        "id": "5XKQ_R6FDD0S"
      },
      "source": [
        "plt.figure(figsize=(14,4))\n",
        "\n",
        "plt.subplot(121)\n",
        "plt.title(\"Train-Test Accuracy\")\n",
        "plt.plot(train_accuracy, color='blue', label='Training acc')\n",
        "plt.plot(test_accuracy, color='red', label='Test acc')\n",
        "plt.xlabel('num_epochs')\n",
        "plt.ylabel('accuracy')\n",
        "plt.legend(frameon=False)\n",
        "\n",
        "plt.subplot(122)\n",
        "plt.title(\"Train-Test Loss\")\n",
        "plt.plot(train_losses, color='blue', label='Training loss')\n",
        "plt.plot(test_losses, color='red', label='Test loss')\n",
        "plt.xlabel('num_epochs')\n",
        "plt.ylabel('loss')\n",
        "plt.legend(frameon=False)\n",
        "\n",
        "plt.show()"
      ],
      "execution_count": 85,
      "outputs": [
        {
          "output_type": "display_data",
          "data": {
            "text/plain": [
              "<Figure size 1008x288 with 2 Axes>"
            ],
            "image/png": "[encoded data removed]"
          },
          "metadata": {
            "needs_background": "light"
          }
        }
      ]
    },
    {
      "cell_type": "markdown",
      "source": [
        "## Evaluation\n",
        "It can be observed that after the same number of epochs of training, the plain ResNet18 model reaches the test accuracy of **%83.77** which is less that the obtained results with teacher-student approach. The reason for this difference is because in the teacher-student approach, we exploit the knowledge of the teacher model which significantly boosts the training process."
      ],
      "metadata": {
        "id": "ce26eAmxcfQ0"
      }
    },
    {
      "cell_type": "markdown",
      "source": [
        "# Part d"
      ],
      "metadata": {
        "id": "dpfUoCrDtT74"
      }
    },
    {
      "cell_type": "code",
      "metadata": {
        "id": "31U9hLKGtT74"
      },
      "source": [
        "model = models.resnet50(weights=\"IMAGENET1K_V2\")\n",
        "model = model.to(device)\n",
        "\n",
        "# model = model.cuda() if use_cuda else model\n",
        "for param in model.parameters():\n",
        "  param.requires_grad = False\n",
        "\n",
        "num_ftrs = model.fc.in_features\n",
        "model.fc = torch.nn.Linear(num_ftrs, len(data_sets['train'].classes))\n",
        "model.fc = model.fc.cuda() if use_cuda else model.fc\n",
        "\n",
        "criterion = nn.CrossEntropyLoss()\n",
        "# optimizer = optim.SGD(model.fc.parameters(), lr=learning_rate, momentum=0.9, weight_decay=5e-4)\n",
        "optimizer = optim.Adam(model.fc.parameters())\n",
        "# scheduler = torch.optim.lr_scheduler.StepLR(optimizer, step_size=10, gamma=0.1)"
      ],
      "execution_count": null,
      "outputs": []
    },
    {
      "cell_type": "code",
      "metadata": {
        "colab": {
          "base_uri": "https://localhost:8080/"
        },
        "outputId": "1642f324-01b0-4a71-a367-360cbcb75c3b",
        "id": "VFjooXj_tT74"
      },
      "source": [
        "train_acces, test_acces = [], []\n",
        "train_losses, test_losses = [], []\n",
        "total_step = len(dataloaders['train'])\n",
        "test_loss_min = np.Inf\n",
        "\n",
        "for epoch in range(1, num_epochs+1):\n",
        "    print(f'Epoch {epoch}\\n')\n",
        "\n",
        "    network_learned = False\n",
        "\n",
        "    for phase in ['train', 'test']:\n",
        "\n",
        "        running_loss = 0.0\n",
        "        running_corrects = 0\n",
        "\n",
        "        if phase == 'train':\n",
        "            model.train()\n",
        "\n",
        "            for batch_idx, (inputs, labels) in enumerate(dataloaders[phase]):\n",
        "\n",
        "                if use_cuda:\n",
        "                    inputs = Variable(inputs.cuda())\n",
        "                    labels = Variable(labels.cuda())\n",
        "                else:\n",
        "                    inputs, labels = Variable(inputs), Variable(labels)\n",
        "  \n",
        "                inputs = inputs.float()\n",
        "                optimizer.zero_grad()\n",
        "                outputs = model(inputs)\n",
        "                loss = criterion(outputs, labels)\n",
        "                loss.backward()\n",
        "                optimizer.step()\n",
        "\n",
        "                _, preds = torch.max(outputs, 1)\n",
        "                running_loss += loss.item()\n",
        "                running_corrects += torch.sum(preds == labels.data)\n",
        "                if (batch_idx) % 50 == 0:\n",
        "                    print ('Epoch [{}/{}], Step [{}/{}], Loss: {:.4f}'.format(epoch, num_epochs, batch_idx, total_step, loss.item()))\n",
        "            # scheduler.step()\n",
        "        else:\n",
        "            with torch.no_grad():\n",
        "                model.eval()\n",
        "                for inputs, labels in dataloaders[phase]:\n",
        "                    if use_cuda:\n",
        "                        inputs = Variable(inputs.cuda())\n",
        "                        labels = Variable(labels.cuda())\n",
        "                    else:\n",
        "                        inputs, labels = Variable(inputs), Variable(labels)\n",
        "                    \n",
        "                    inputs = inputs.float()\n",
        "                    outputs = model(inputs)\n",
        "                    loss = criterion(outputs, labels)\n",
        "\n",
        "                    _, preds = torch.max(outputs, 1)\n",
        "                    running_loss += loss.item()\n",
        "                    running_corrects += torch.sum(preds == labels.data)\n",
        "            network_learned = running_loss < test_loss_min\n",
        "            test_loss_min = running_loss if network_learned else test_loss_min\n",
        "\n",
        "\n",
        "        epoch_loss = running_loss / len(data_sets[phase])\n",
        "        epoch_acc = running_corrects.double() / len(data_sets[phase])\n",
        "        \n",
        "        if phase == 'train':\n",
        "            train_acces.append(epoch_acc * 100)\n",
        "            train_losses.append(epoch_loss)\n",
        "        else:\n",
        "            test_acces.append(epoch_acc * 100)\n",
        "            test_losses.append(epoch_loss)\n",
        "    print(f'\\ntrain-loss: {np.mean(train_losses):.4f}, train-acc: {train_acces[-1]:.4f}')\n",
        "    print(f'test loss: {np.mean(test_losses):.4f}, test acc: {test_acces[-1]:.4f}\\n')\n",
        "\n",
        "    if network_learned:\n",
        "        torch.save(model.state_dict(), 'models/weights.h5')\n",
        "        print('Improvement-Detected, save-model')"
      ],
      "execution_count": null,
      "outputs": [
        {
          "output_type": "stream",
          "name": "stdout",
          "text": [
            "Epoch 1\n",
            "\n",
            "Epoch [1/5], Step [0/782], Loss: 2.3014\n",
            "Epoch [1/5], Step [50/782], Loss: 1.1933\n",
            "Epoch [1/5], Step [100/782], Loss: 1.1938\n",
            "Epoch [1/5], Step [150/782], Loss: 0.8970\n",
            "Epoch [1/5], Step [200/782], Loss: 0.8951\n",
            "Epoch [1/5], Step [250/782], Loss: 0.8039\n",
            "Epoch [1/5], Step [300/782], Loss: 0.5827\n",
            "Epoch [1/5], Step [350/782], Loss: 0.8965\n",
            "Epoch [1/5], Step [400/782], Loss: 0.7538\n",
            "Epoch [1/5], Step [450/782], Loss: 0.6157\n",
            "Epoch [1/5], Step [500/782], Loss: 0.6850\n",
            "Epoch [1/5], Step [550/782], Loss: 0.6595\n",
            "Epoch [1/5], Step [600/782], Loss: 0.6970\n",
            "Epoch [1/5], Step [650/782], Loss: 0.6258\n",
            "Epoch [1/5], Step [700/782], Loss: 0.7607\n",
            "Epoch [1/5], Step [750/782], Loss: 0.6276\n",
            "\n",
            "train-loss: 0.0131, train-acc: 74.0000\n",
            "test loss: 0.0098, test acc: 78.6100\n",
            "\n",
            "Improvement-Detected, save-model\n",
            "Epoch 2\n",
            "\n",
            "Epoch [2/5], Step [0/782], Loss: 0.7132\n",
            "Epoch [2/5], Step [50/782], Loss: 0.5674\n",
            "Epoch [2/5], Step [100/782], Loss: 0.6670\n",
            "Epoch [2/5], Step [150/782], Loss: 0.7004\n",
            "Epoch [2/5], Step [200/782], Loss: 0.5940\n",
            "Epoch [2/5], Step [250/782], Loss: 0.6029\n",
            "Epoch [2/5], Step [300/782], Loss: 0.5055\n",
            "Epoch [2/5], Step [350/782], Loss: 0.8467\n",
            "Epoch [2/5], Step [400/782], Loss: 0.5946\n",
            "Epoch [2/5], Step [450/782], Loss: 0.6188\n",
            "Epoch [2/5], Step [500/782], Loss: 0.5803\n",
            "Epoch [2/5], Step [550/782], Loss: 0.6273\n",
            "Epoch [2/5], Step [600/782], Loss: 0.4717\n",
            "Epoch [2/5], Step [650/782], Loss: 0.6406\n",
            "Epoch [2/5], Step [700/782], Loss: 0.5578\n",
            "Epoch [2/5], Step [750/782], Loss: 0.5267\n",
            "\n",
            "train-loss: 0.0112, train-acc: 80.0780\n",
            "test loss: 0.0094, test acc: 80.8800\n",
            "\n",
            "Improvement-Detected, save-model\n",
            "Epoch 3\n",
            "\n",
            "Epoch [3/5], Step [0/782], Loss: 0.5963\n",
            "Epoch [3/5], Step [50/782], Loss: 0.4472\n",
            "Epoch [3/5], Step [100/782], Loss: 0.5982\n",
            "Epoch [3/5], Step [150/782], Loss: 0.5493\n",
            "Epoch [3/5], Step [200/782], Loss: 0.4138\n",
            "Epoch [3/5], Step [250/782], Loss: 0.3935\n",
            "Epoch [3/5], Step [300/782], Loss: 0.5375\n",
            "Epoch [3/5], Step [350/782], Loss: 0.5353\n",
            "Epoch [3/5], Step [400/782], Loss: 0.5641\n",
            "Epoch [3/5], Step [450/782], Loss: 0.5082\n",
            "Epoch [3/5], Step [500/782], Loss: 0.6276\n",
            "Epoch [3/5], Step [550/782], Loss: 0.4671\n",
            "Epoch [3/5], Step [600/782], Loss: 0.5459\n",
            "Epoch [3/5], Step [650/782], Loss: 0.6620\n",
            "Epoch [3/5], Step [700/782], Loss: 0.6177\n",
            "Epoch [3/5], Step [750/782], Loss: 0.4879\n",
            "\n",
            "train-loss: 0.0103, train-acc: 81.8000\n",
            "test loss: 0.0091, test acc: 81.0600\n",
            "\n",
            "Improvement-Detected, save-model\n",
            "Epoch 4\n",
            "\n",
            "Epoch [4/5], Step [0/782], Loss: 0.6010\n",
            "Epoch [4/5], Step [50/782], Loss: 0.3556\n",
            "Epoch [4/5], Step [100/782], Loss: 0.5054\n",
            "Epoch [4/5], Step [150/782], Loss: 0.4392\n",
            "Epoch [4/5], Step [200/782], Loss: 0.5982\n",
            "Epoch [4/5], Step [250/782], Loss: 0.5176\n",
            "Epoch [4/5], Step [300/782], Loss: 0.5493\n",
            "Epoch [4/5], Step [350/782], Loss: 0.5758\n",
            "Epoch [4/5], Step [400/782], Loss: 0.6420\n",
            "Epoch [4/5], Step [450/782], Loss: 0.5539\n",
            "Epoch [4/5], Step [500/782], Loss: 0.2569\n",
            "Epoch [4/5], Step [550/782], Loss: 0.4170\n",
            "Epoch [4/5], Step [600/782], Loss: 0.5769\n",
            "Epoch [4/5], Step [650/782], Loss: 0.3416\n",
            "Epoch [4/5], Step [700/782], Loss: 0.6081\n",
            "Epoch [4/5], Step [750/782], Loss: 0.7209\n"
          ]
        }
      ]
    },
    {
      "cell_type": "code",
      "source": [
        "train_accuracy = np.array([acc.cpu().numpy() for acc in train_acces])\n",
        "test_accuracy = np.array([acc.cpu().numpy() for acc in test_acces])"
      ],
      "metadata": {
        "id": "pFVVpkAmtT74"
      },
      "execution_count": null,
      "outputs": []
    },
    {
      "cell_type": "code",
      "metadata": {
        "colab": {
          "base_uri": "https://localhost:8080/",
          "height": 405
        },
        "outputId": "72bf4f34-bb09-48a3-b232-628af2529725",
        "id": "vGJAKwbbtT74"
      },
      "source": [
        "plt.figure(figsize=(14,4))\n",
        "\n",
        "plt.subplot(121)\n",
        "plt.title(\"Train-Test Accuracy\")\n",
        "plt.plot(train_accuracy, color='blue', label='Training acc')\n",
        "plt.plot(test_accuracy, color='red', label='Test acc')\n",
        "plt.xlabel('num_epochs')\n",
        "plt.ylabel('accuracy')\n",
        "plt.legend(frameon=False)\n",
        "\n",
        "plt.subplot(122)\n",
        "plt.title(\"Train-Test Loss\")\n",
        "plt.plot(train_losses, color='blue', label='Training loss')\n",
        "plt.plot(test_losses, color='red', label='Test loss')\n",
        "plt.xlabel('num_epochs')\n",
        "plt.ylabel('loss')\n",
        "plt.legend(frameon=False)\n",
        "\n",
        "plt.show()"
      ],
      "execution_count": null,
      "outputs": [
        {
          "output_type": "display_data",
          "data": {
            "text/plain": [
              "<Figure size 1152x432 with 2 Axes>"
            ],
            "image/png": "[encoded data removed]"
          },
          "metadata": {
            "needs_background": "light"
          }
        }
      ]
    },
    {
      "cell_type": "markdown",
      "source": [
        "## Evaluation\n",
        "To train the ResNet50 model from the scratch resulted in test accuracy of **%84.20**, however, the training process was tedious and took an enormous amount of time since the parameters in all layers were also updated at each iteration."
      ],
      "metadata": {
        "id": "n3RxDhPiqpim"
      }
    }
  ]
}